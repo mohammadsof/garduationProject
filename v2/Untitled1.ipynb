{
 "cells": [
  {
   "cell_type": "code",
   "execution_count": 1,
   "id": "89731a09",
   "metadata": {},
   "outputs": [
    {
     "name": "stderr",
     "output_type": "stream",
     "text": [
      "2025-02-28 20:35:49.637754: E external/local_xla/xla/stream_executor/cuda/cuda_fft.cc:477] Unable to register cuFFT factory: Attempting to register factory for plugin cuFFT when one has already been registered\n",
      "WARNING: All log messages before absl::InitializeLog() is called are written to STDERR\n",
      "E0000 00:00:1740767750.679012    4462 cuda_dnn.cc:8310] Unable to register cuDNN factory: Attempting to register factory for plugin cuDNN when one has already been registered\n",
      "E0000 00:00:1740767750.873746    4462 cuda_blas.cc:1418] Unable to register cuBLAS factory: Attempting to register factory for plugin cuBLAS when one has already been registered\n",
      "2025-02-28 20:35:52.784940: I tensorflow/core/platform/cpu_feature_guard.cc:210] This TensorFlow binary is optimized to use available CPU instructions in performance-critical operations.\n",
      "To enable the following instructions: AVX2 FMA, in other operations, rebuild TensorFlow with the appropriate compiler flags.\n",
      "I0000 00:00:1740767781.565571    4462 gpu_device.cc:2022] Created device /job:localhost/replica:0/task:0/device:GPU:0 with 4434 MB memory:  -> device: 0, name: NVIDIA GeForce GTX 1660, pci bus id: 0000:01:00.0, compute capability: 7.5\n",
      "/home/mohammad/.local/lib/python3.12/site-packages/keras/src/trainers/data_adapters/py_dataset_adapter.py:121: UserWarning: Your `PyDataset` class should call `super().__init__(**kwargs)` in its constructor. `**kwargs` can include `workers`, `use_multiprocessing`, `max_queue_size`. Do not pass these arguments to `fit()`, as they will be ignored.\n",
      "  self._warn_if_super_not_called()\n"
     ]
    },
    {
     "name": "stdout",
     "output_type": "stream",
     "text": [
      "Epoch 1/40\n"
     ]
    },
    {
     "name": "stderr",
     "output_type": "stream",
     "text": [
      "/home/mohammad/.local/lib/python3.12/site-packages/keras/src/models/functional.py:237: UserWarning: The structure of `inputs` doesn't match the expected structure.\n",
      "Expected: ['keras_tensor']\n",
      "Received: inputs=Tensor(shape=(None, 320, 320, 3))\n",
      "  warnings.warn(msg)\n",
      "WARNING: All log messages before absl::InitializeLog() is called are written to STDERR\n",
      "I0000 00:00:1740767810.585509    4512 service.cc:148] XLA service 0x71fab80024b0 initialized for platform CUDA (this does not guarantee that XLA will be used). Devices:\n",
      "I0000 00:00:1740767810.602295    4512 service.cc:156]   StreamExecutor device (0): NVIDIA GeForce GTX 1660, Compute Capability 7.5\n",
      "2025-02-28 20:36:51.800419: I tensorflow/compiler/mlir/tensorflow/utils/dump_mlir_util.cc:268] disabling MLIR crash reproducer, set env var `MLIR_CRASH_REPRODUCER_DIRECTORY` to enable.\n",
      "I0000 00:00:1740767815.302388    4512 cuda_dnn.cc:529] Loaded cuDNN version 90701\n",
      "2025-02-28 20:37:02.054399: W external/local_xla/xla/tsl/framework/bfc_allocator.cc:306] Allocator (GPU_0_bfc) ran out of memory trying to allocate 3.82GiB with freed_by_count=0. The caller indicates that this is not a failure, but this may mean that there could be performance gains if more memory were available.\n",
      "2025-02-28 20:37:02.277628: W external/local_xla/xla/tsl/framework/bfc_allocator.cc:306] Allocator (GPU_0_bfc) ran out of memory trying to allocate 4.46GiB with freed_by_count=0. The caller indicates that this is not a failure, but this may mean that there could be performance gains if more memory were available.\n",
      "2025-02-28 20:37:02.644950: W external/local_xla/xla/tsl/framework/bfc_allocator.cc:306] Allocator (GPU_0_bfc) ran out of memory trying to allocate 5.09GiB with freed_by_count=0. The caller indicates that this is not a failure, but this may mean that there could be performance gains if more memory were available.\n",
      "2025-02-28 20:37:05.052534: W external/local_xla/xla/tsl/framework/bfc_allocator.cc:306] Allocator (GPU_0_bfc) ran out of memory trying to allocate 4.66GiB with freed_by_count=0. The caller indicates that this is not a failure, but this may mean that there could be performance gains if more memory were available.\n",
      "2025-02-28 20:37:08.210139: W external/local_xla/xla/tsl/framework/bfc_allocator.cc:306] Allocator (GPU_0_bfc) ran out of memory trying to allocate 6.99GiB with freed_by_count=0. The caller indicates that this is not a failure, but this may mean that there could be performance gains if more memory were available.\n",
      "I0000 00:00:1740767845.915676    4512 device_compiler.h:188] Compiled cluster using XLA!  This line is logged at most once for the lifetime of the process.\n"
     ]
    },
    {
     "name": "stdout",
     "output_type": "stream",
     "text": [
      "\u001b[1m 894/1036\u001b[0m \u001b[32m━━━━━━━━━━━━━━━━━\u001b[0m\u001b[37m━━━\u001b[0m \u001b[1m2:33\u001b[0m 1s/step - accuracy: 0.6093 - loss: 8.4457"
     ]
    },
    {
     "name": "stderr",
     "output_type": "stream",
     "text": [
      "2025-02-28 20:53:37.219031: W external/local_xla/xla/tsl/framework/bfc_allocator.cc:306] Allocator (GPU_0_bfc) ran out of memory trying to allocate 3.23GiB with freed_by_count=0. The caller indicates that this is not a failure, but this may mean that there could be performance gains if more memory were available.\n",
      "2025-02-28 20:53:37.287432: W external/local_xla/xla/tsl/framework/bfc_allocator.cc:306] Allocator (GPU_0_bfc) ran out of memory trying to allocate 3.76GiB with freed_by_count=0. The caller indicates that this is not a failure, but this may mean that there could be performance gains if more memory were available.\n",
      "2025-02-28 20:53:37.360373: W external/local_xla/xla/tsl/framework/bfc_allocator.cc:306] Allocator (GPU_0_bfc) ran out of memory trying to allocate 4.30GiB with freed_by_count=0. The caller indicates that this is not a failure, but this may mean that there could be performance gains if more memory were available.\n",
      "2025-02-28 20:53:38.011601: W external/local_xla/xla/tsl/framework/bfc_allocator.cc:306] Allocator (GPU_0_bfc) ran out of memory trying to allocate 4.25GiB with freed_by_count=0. The caller indicates that this is not a failure, but this may mean that there could be performance gains if more memory were available.\n",
      "2025-02-28 20:53:55.146035: I external/local_xla/xla/stream_executor/cuda/cuda_asm_compiler.cc:397] ptxas warning : Registers are spilled to local memory in function 'input_reduce_fusion_35', 12 bytes spill stores, 12 bytes spill loads\n",
      "ptxas warning : Registers are spilled to local memory in function 'input_reduce_fusion_38', 8 bytes spill stores, 8 bytes spill loads\n",
      "ptxas warning : Registers are spilled to local memory in function 'input_reduce_fusion_39', 4 bytes spill stores, 4 bytes spill loads\n",
      "\n"
     ]
    },
    {
     "name": "stdout",
     "output_type": "stream",
     "text": [
      "\u001b[1m1036/1036\u001b[0m \u001b[32m━━━━━━━━━━━━━━━━━━━━\u001b[0m\u001b[37m\u001b[0m \u001b[1m0s\u001b[0m 1s/step - accuracy: 0.6154 - loss: 8.0312"
     ]
    },
    {
     "name": "stderr",
     "output_type": "stream",
     "text": [
      "2025-02-28 20:57:23.219411: W external/local_xla/xla/tsl/framework/bfc_allocator.cc:306] Allocator (GPU_0_bfc) ran out of memory trying to allocate 3.13GiB with freed_by_count=0. The caller indicates that this is not a failure, but this may mean that there could be performance gains if more memory were available.\n"
     ]
    },
    {
     "name": "stdout",
     "output_type": "stream",
     "text": [
      "\n",
      "Epoch 1: saving model to model_epoch01_val_loss2.2926.h5\n"
     ]
    },
    {
     "name": "stderr",
     "output_type": "stream",
     "text": [
      "WARNING:absl:You are saving your model as an HDF5 file via `model.save()` or `keras.saving.save_model(model)`. This file format is considered legacy. We recommend using instead the native Keras format, e.g. `model.save('my_model.keras')` or `keras.saving.save_model(model, 'my_model.keras')`. \n"
     ]
    },
    {
     "name": "stdout",
     "output_type": "stream",
     "text": [
      "\u001b[1m1036/1036\u001b[0m \u001b[32m━━━━━━━━━━━━━━━━━━━━\u001b[0m\u001b[37m\u001b[0m \u001b[1m1266s\u001b[0m 1s/step - accuracy: 0.6154 - loss: 8.0285 - val_accuracy: 0.7735 - val_loss: 2.2926 - learning_rate: 1.0000e-04\n",
      "Epoch 2/40\n",
      "\u001b[1m1036/1036\u001b[0m \u001b[32m━━━━━━━━━━━━━━━━━━━━\u001b[0m\u001b[37m\u001b[0m \u001b[1m0s\u001b[0m 578ms/step - accuracy: 0.7226 - loss: 1.6238\n",
      "Epoch 2: saving model to model_epoch02_val_loss0.9837.h5\n"
     ]
    },
    {
     "name": "stderr",
     "output_type": "stream",
     "text": [
      "WARNING:absl:You are saving your model as an HDF5 file via `model.save()` or `keras.saving.save_model(model)`. This file format is considered legacy. We recommend using instead the native Keras format, e.g. `model.save('my_model.keras')` or `keras.saving.save_model(model, 'my_model.keras')`. \n"
     ]
    },
    {
     "name": "stdout",
     "output_type": "stream",
     "text": [
      "\u001b[1m1036/1036\u001b[0m \u001b[32m━━━━━━━━━━━━━━━━━━━━\u001b[0m\u001b[37m\u001b[0m \u001b[1m618s\u001b[0m 596ms/step - accuracy: 0.7226 - loss: 1.6234 - val_accuracy: 0.7923 - val_loss: 0.9837 - learning_rate: 1.0000e-04\n",
      "Epoch 3/40\n",
      "\u001b[1m1036/1036\u001b[0m \u001b[32m━━━━━━━━━━━━━━━━━━━━\u001b[0m\u001b[37m\u001b[0m \u001b[1m0s\u001b[0m 578ms/step - accuracy: 0.7715 - loss: 0.6426\n",
      "Epoch 3: saving model to model_epoch03_val_loss0.6400.h5\n"
     ]
    },
    {
     "name": "stderr",
     "output_type": "stream",
     "text": [
      "WARNING:absl:You are saving your model as an HDF5 file via `model.save()` or `keras.saving.save_model(model)`. This file format is considered legacy. We recommend using instead the native Keras format, e.g. `model.save('my_model.keras')` or `keras.saving.save_model(model, 'my_model.keras')`. \n"
     ]
    },
    {
     "name": "stdout",
     "output_type": "stream",
     "text": [
      "\u001b[1m1036/1036\u001b[0m \u001b[32m━━━━━━━━━━━━━━━━━━━━\u001b[0m\u001b[37m\u001b[0m \u001b[1m618s\u001b[0m 596ms/step - accuracy: 0.7715 - loss: 0.6426 - val_accuracy: 0.7907 - val_loss: 0.6400 - learning_rate: 1.0000e-04\n",
      "Epoch 4/40\n",
      "\u001b[1m1036/1036\u001b[0m \u001b[32m━━━━━━━━━━━━━━━━━━━━\u001b[0m\u001b[37m\u001b[0m \u001b[1m0s\u001b[0m 580ms/step - accuracy: 0.7845 - loss: 0.3870\n",
      "Epoch 4: saving model to model_epoch04_val_loss0.5490.h5\n"
     ]
    },
    {
     "name": "stderr",
     "output_type": "stream",
     "text": [
      "WARNING:absl:You are saving your model as an HDF5 file via `model.save()` or `keras.saving.save_model(model)`. This file format is considered legacy. We recommend using instead the native Keras format, e.g. `model.save('my_model.keras')` or `keras.saving.save_model(model, 'my_model.keras')`. \n"
     ]
    },
    {
     "name": "stdout",
     "output_type": "stream",
     "text": [
      "\u001b[1m1036/1036\u001b[0m \u001b[32m━━━━━━━━━━━━━━━━━━━━\u001b[0m\u001b[37m\u001b[0m \u001b[1m620s\u001b[0m 598ms/step - accuracy: 0.7845 - loss: 0.3870 - val_accuracy: 0.8017 - val_loss: 0.5490 - learning_rate: 1.0000e-04\n",
      "Epoch 5/40\n",
      "\u001b[1m1036/1036\u001b[0m \u001b[32m━━━━━━━━━━━━━━━━━━━━\u001b[0m\u001b[37m\u001b[0m \u001b[1m0s\u001b[0m 578ms/step - accuracy: 0.8037 - loss: 0.3267\n",
      "Epoch 5: saving model to model_epoch05_val_loss0.5410.h5\n"
     ]
    },
    {
     "name": "stderr",
     "output_type": "stream",
     "text": [
      "WARNING:absl:You are saving your model as an HDF5 file via `model.save()` or `keras.saving.save_model(model)`. This file format is considered legacy. We recommend using instead the native Keras format, e.g. `model.save('my_model.keras')` or `keras.saving.save_model(model, 'my_model.keras')`. \n"
     ]
    },
    {
     "name": "stdout",
     "output_type": "stream",
     "text": [
      "\u001b[1m1036/1036\u001b[0m \u001b[32m━━━━━━━━━━━━━━━━━━━━\u001b[0m\u001b[37m\u001b[0m \u001b[1m618s\u001b[0m 597ms/step - accuracy: 0.8036 - loss: 0.3267 - val_accuracy: 0.8039 - val_loss: 0.5410 - learning_rate: 1.0000e-04\n",
      "Epoch 6/40\n",
      "\u001b[1m1036/1036\u001b[0m \u001b[32m━━━━━━━━━━━━━━━━━━━━\u001b[0m\u001b[37m\u001b[0m \u001b[1m0s\u001b[0m 576ms/step - accuracy: 0.8041 - loss: 0.3200\n",
      "Epoch 6: saving model to model_epoch06_val_loss0.5652.h5\n"
     ]
    },
    {
     "name": "stderr",
     "output_type": "stream",
     "text": [
      "WARNING:absl:You are saving your model as an HDF5 file via `model.save()` or `keras.saving.save_model(model)`. This file format is considered legacy. We recommend using instead the native Keras format, e.g. `model.save('my_model.keras')` or `keras.saving.save_model(model, 'my_model.keras')`. \n"
     ]
    },
    {
     "name": "stdout",
     "output_type": "stream",
     "text": [
      "\u001b[1m1036/1036\u001b[0m \u001b[32m━━━━━━━━━━━━━━━━━━━━\u001b[0m\u001b[37m\u001b[0m \u001b[1m616s\u001b[0m 595ms/step - accuracy: 0.8041 - loss: 0.3200 - val_accuracy: 0.7889 - val_loss: 0.5652 - learning_rate: 1.0000e-04\n",
      "Epoch 7/40\n",
      "\u001b[1m1036/1036\u001b[0m \u001b[32m━━━━━━━━━━━━━━━━━━━━\u001b[0m\u001b[37m\u001b[0m \u001b[1m0s\u001b[0m 579ms/step - accuracy: 0.8106 - loss: 0.3175\n",
      "Epoch 7: saving model to model_epoch07_val_loss0.5631.h5\n"
     ]
    },
    {
     "name": "stderr",
     "output_type": "stream",
     "text": [
      "WARNING:absl:You are saving your model as an HDF5 file via `model.save()` or `keras.saving.save_model(model)`. This file format is considered legacy. We recommend using instead the native Keras format, e.g. `model.save('my_model.keras')` or `keras.saving.save_model(model, 'my_model.keras')`. \n"
     ]
    },
    {
     "name": "stdout",
     "output_type": "stream",
     "text": [
      "\u001b[1m1036/1036\u001b[0m \u001b[32m━━━━━━━━━━━━━━━━━━━━\u001b[0m\u001b[37m\u001b[0m \u001b[1m619s\u001b[0m 597ms/step - accuracy: 0.8106 - loss: 0.3175 - val_accuracy: 0.7998 - val_loss: 0.5631 - learning_rate: 1.0000e-04\n",
      "Epoch 8/40\n",
      "\u001b[1m1036/1036\u001b[0m \u001b[32m━━━━━━━━━━━━━━━━━━━━\u001b[0m\u001b[37m\u001b[0m \u001b[1m0s\u001b[0m 581ms/step - accuracy: 0.8166 - loss: 0.3160\n",
      "Epoch 8: ReduceLROnPlateau reducing learning rate to 4.999999873689376e-05.\n",
      "\n",
      "Epoch 8: saving model to model_epoch08_val_loss0.5550.h5\n"
     ]
    },
    {
     "name": "stderr",
     "output_type": "stream",
     "text": [
      "WARNING:absl:You are saving your model as an HDF5 file via `model.save()` or `keras.saving.save_model(model)`. This file format is considered legacy. We recommend using instead the native Keras format, e.g. `model.save('my_model.keras')` or `keras.saving.save_model(model, 'my_model.keras')`. \n"
     ]
    },
    {
     "name": "stdout",
     "output_type": "stream",
     "text": [
      "\u001b[1m1036/1036\u001b[0m \u001b[32m━━━━━━━━━━━━━━━━━━━━\u001b[0m\u001b[37m\u001b[0m \u001b[1m621s\u001b[0m 599ms/step - accuracy: 0.8166 - loss: 0.3160 - val_accuracy: 0.8070 - val_loss: 0.5550 - learning_rate: 1.0000e-04\n",
      "Epoch 9/40\n",
      "\u001b[1m1036/1036\u001b[0m \u001b[32m━━━━━━━━━━━━━━━━━━━━\u001b[0m\u001b[37m\u001b[0m \u001b[1m0s\u001b[0m 581ms/step - accuracy: 0.8264 - loss: 0.2768\n",
      "Epoch 9: saving model to model_epoch09_val_loss0.4929.h5\n"
     ]
    },
    {
     "name": "stderr",
     "output_type": "stream",
     "text": [
      "WARNING:absl:You are saving your model as an HDF5 file via `model.save()` or `keras.saving.save_model(model)`. This file format is considered legacy. We recommend using instead the native Keras format, e.g. `model.save('my_model.keras')` or `keras.saving.save_model(model, 'my_model.keras')`. \n"
     ]
    },
    {
     "name": "stdout",
     "output_type": "stream",
     "text": [
      "\u001b[1m1036/1036\u001b[0m \u001b[32m━━━━━━━━━━━━━━━━━━━━\u001b[0m\u001b[37m\u001b[0m \u001b[1m621s\u001b[0m 599ms/step - accuracy: 0.8264 - loss: 0.2768 - val_accuracy: 0.8189 - val_loss: 0.4929 - learning_rate: 5.0000e-05\n",
      "Epoch 10/40\n",
      "\u001b[1m1036/1036\u001b[0m \u001b[32m━━━━━━━━━━━━━━━━━━━━\u001b[0m\u001b[37m\u001b[0m \u001b[1m0s\u001b[0m 583ms/step - accuracy: 0.8346 - loss: 0.2595\n",
      "Epoch 10: saving model to model_epoch10_val_loss0.4985.h5\n"
     ]
    },
    {
     "name": "stderr",
     "output_type": "stream",
     "text": [
      "WARNING:absl:You are saving your model as an HDF5 file via `model.save()` or `keras.saving.save_model(model)`. This file format is considered legacy. We recommend using instead the native Keras format, e.g. `model.save('my_model.keras')` or `keras.saving.save_model(model, 'my_model.keras')`. \n"
     ]
    },
    {
     "name": "stdout",
     "output_type": "stream",
     "text": [
      "\u001b[1m1036/1036\u001b[0m \u001b[32m━━━━━━━━━━━━━━━━━━━━\u001b[0m\u001b[37m\u001b[0m \u001b[1m623s\u001b[0m 601ms/step - accuracy: 0.8346 - loss: 0.2595 - val_accuracy: 0.8211 - val_loss: 0.4985 - learning_rate: 5.0000e-05\n",
      "Epoch 11/40\n",
      "\u001b[1m1036/1036\u001b[0m \u001b[32m━━━━━━━━━━━━━━━━━━━━\u001b[0m\u001b[37m\u001b[0m \u001b[1m0s\u001b[0m 581ms/step - accuracy: 0.8361 - loss: 0.2586\n",
      "Epoch 11: saving model to model_epoch11_val_loss0.4916.h5\n"
     ]
    },
    {
     "name": "stderr",
     "output_type": "stream",
     "text": [
      "WARNING:absl:You are saving your model as an HDF5 file via `model.save()` or `keras.saving.save_model(model)`. This file format is considered legacy. We recommend using instead the native Keras format, e.g. `model.save('my_model.keras')` or `keras.saving.save_model(model, 'my_model.keras')`. \n"
     ]
    },
    {
     "name": "stdout",
     "output_type": "stream",
     "text": [
      "\u001b[1m1036/1036\u001b[0m \u001b[32m━━━━━━━━━━━━━━━━━━━━\u001b[0m\u001b[37m\u001b[0m \u001b[1m622s\u001b[0m 600ms/step - accuracy: 0.8361 - loss: 0.2586 - val_accuracy: 0.8205 - val_loss: 0.4916 - learning_rate: 5.0000e-05\n",
      "Epoch 12/40\n",
      "\u001b[1m1036/1036\u001b[0m \u001b[32m━━━━━━━━━━━━━━━━━━━━\u001b[0m\u001b[37m\u001b[0m \u001b[1m0s\u001b[0m 578ms/step - accuracy: 0.8414 - loss: 0.2525\n",
      "Epoch 12: saving model to model_epoch12_val_loss0.5232.h5\n"
     ]
    },
    {
     "name": "stderr",
     "output_type": "stream",
     "text": [
      "WARNING:absl:You are saving your model as an HDF5 file via `model.save()` or `keras.saving.save_model(model)`. This file format is considered legacy. We recommend using instead the native Keras format, e.g. `model.save('my_model.keras')` or `keras.saving.save_model(model, 'my_model.keras')`. \n"
     ]
    },
    {
     "name": "stdout",
     "output_type": "stream",
     "text": [
      "\u001b[1m1036/1036\u001b[0m \u001b[32m━━━━━━━━━━━━━━━━━━━━\u001b[0m\u001b[37m\u001b[0m \u001b[1m618s\u001b[0m 596ms/step - accuracy: 0.8414 - loss: 0.2525 - val_accuracy: 0.8029 - val_loss: 0.5232 - learning_rate: 5.0000e-05\n",
      "Epoch 13/40\n",
      "\u001b[1m1036/1036\u001b[0m \u001b[32m━━━━━━━━━━━━━━━━━━━━\u001b[0m\u001b[37m\u001b[0m \u001b[1m0s\u001b[0m 587ms/step - accuracy: 0.8451 - loss: 0.2494\n",
      "Epoch 13: saving model to model_epoch13_val_loss0.5114.h5\n"
     ]
    },
    {
     "name": "stderr",
     "output_type": "stream",
     "text": [
      "WARNING:absl:You are saving your model as an HDF5 file via `model.save()` or `keras.saving.save_model(model)`. This file format is considered legacy. We recommend using instead the native Keras format, e.g. `model.save('my_model.keras')` or `keras.saving.save_model(model, 'my_model.keras')`. \n"
     ]
    },
    {
     "name": "stdout",
     "output_type": "stream",
     "text": [
      "\u001b[1m1036/1036\u001b[0m \u001b[32m━━━━━━━━━━━━━━━━━━━━\u001b[0m\u001b[37m\u001b[0m \u001b[1m628s\u001b[0m 606ms/step - accuracy: 0.8451 - loss: 0.2494 - val_accuracy: 0.8142 - val_loss: 0.5114 - learning_rate: 5.0000e-05\n",
      "Epoch 14/40\n",
      "\u001b[1m1036/1036\u001b[0m \u001b[32m━━━━━━━━━━━━━━━━━━━━\u001b[0m\u001b[37m\u001b[0m \u001b[1m0s\u001b[0m 572ms/step - accuracy: 0.8490 - loss: 0.2514\n",
      "Epoch 14: ReduceLROnPlateau reducing learning rate to 2.499999936844688e-05.\n",
      "\n",
      "Epoch 14: saving model to model_epoch14_val_loss0.5323.h5\n"
     ]
    },
    {
     "name": "stderr",
     "output_type": "stream",
     "text": [
      "WARNING:absl:You are saving your model as an HDF5 file via `model.save()` or `keras.saving.save_model(model)`. This file format is considered legacy. We recommend using instead the native Keras format, e.g. `model.save('my_model.keras')` or `keras.saving.save_model(model, 'my_model.keras')`. \n"
     ]
    },
    {
     "name": "stdout",
     "output_type": "stream",
     "text": [
      "\u001b[1m1036/1036\u001b[0m \u001b[32m━━━━━━━━━━━━━━━━━━━━\u001b[0m\u001b[37m\u001b[0m \u001b[1m612s\u001b[0m 591ms/step - accuracy: 0.8490 - loss: 0.2514 - val_accuracy: 0.8045 - val_loss: 0.5323 - learning_rate: 5.0000e-05\n",
      "Epoch 15/40\n",
      "\u001b[1m1036/1036\u001b[0m \u001b[32m━━━━━━━━━━━━━━━━━━━━\u001b[0m\u001b[37m\u001b[0m \u001b[1m0s\u001b[0m 577ms/step - accuracy: 0.8511 - loss: 0.2222\n",
      "Epoch 15: saving model to model_epoch15_val_loss0.4899.h5\n"
     ]
    },
    {
     "name": "stderr",
     "output_type": "stream",
     "text": [
      "WARNING:absl:You are saving your model as an HDF5 file via `model.save()` or `keras.saving.save_model(model)`. This file format is considered legacy. We recommend using instead the native Keras format, e.g. `model.save('my_model.keras')` or `keras.saving.save_model(model, 'my_model.keras')`. \n"
     ]
    },
    {
     "name": "stdout",
     "output_type": "stream",
     "text": [
      "\u001b[1m1036/1036\u001b[0m \u001b[32m━━━━━━━━━━━━━━━━━━━━\u001b[0m\u001b[37m\u001b[0m \u001b[1m617s\u001b[0m 596ms/step - accuracy: 0.8511 - loss: 0.2222 - val_accuracy: 0.8186 - val_loss: 0.4899 - learning_rate: 2.5000e-05\n",
      "Epoch 16/40\n",
      "\u001b[1m1036/1036\u001b[0m \u001b[32m━━━━━━━━━━━━━━━━━━━━\u001b[0m\u001b[37m\u001b[0m \u001b[1m0s\u001b[0m 576ms/step - accuracy: 0.8589 - loss: 0.2064\n",
      "Epoch 16: saving model to model_epoch16_val_loss0.5132.h5\n"
     ]
    },
    {
     "name": "stderr",
     "output_type": "stream",
     "text": [
      "WARNING:absl:You are saving your model as an HDF5 file via `model.save()` or `keras.saving.save_model(model)`. This file format is considered legacy. We recommend using instead the native Keras format, e.g. `model.save('my_model.keras')` or `keras.saving.save_model(model, 'my_model.keras')`. \n"
     ]
    },
    {
     "name": "stdout",
     "output_type": "stream",
     "text": [
      "\u001b[1m1036/1036\u001b[0m \u001b[32m━━━━━━━━━━━━━━━━━━━━\u001b[0m\u001b[37m\u001b[0m \u001b[1m616s\u001b[0m 595ms/step - accuracy: 0.8589 - loss: 0.2064 - val_accuracy: 0.8167 - val_loss: 0.5132 - learning_rate: 2.5000e-05\n",
      "Epoch 17/40\n",
      "\u001b[1m1036/1036\u001b[0m \u001b[32m━━━━━━━━━━━━━━━━━━━━\u001b[0m\u001b[37m\u001b[0m \u001b[1m0s\u001b[0m 598ms/step - accuracy: 0.8672 - loss: 0.2004\n",
      "Epoch 17: saving model to model_epoch17_val_loss0.5103.h5\n"
     ]
    },
    {
     "name": "stderr",
     "output_type": "stream",
     "text": [
      "WARNING:absl:You are saving your model as an HDF5 file via `model.save()` or `keras.saving.save_model(model)`. This file format is considered legacy. We recommend using instead the native Keras format, e.g. `model.save('my_model.keras')` or `keras.saving.save_model(model, 'my_model.keras')`. \n"
     ]
    },
    {
     "name": "stdout",
     "output_type": "stream",
     "text": [
      "\u001b[1m1036/1036\u001b[0m \u001b[32m━━━━━━━━━━━━━━━━━━━━\u001b[0m\u001b[37m\u001b[0m \u001b[1m640s\u001b[0m 618ms/step - accuracy: 0.8672 - loss: 0.2004 - val_accuracy: 0.8064 - val_loss: 0.5103 - learning_rate: 2.5000e-05\n",
      "Epoch 18/40\n",
      "\u001b[1m1036/1036\u001b[0m \u001b[32m━━━━━━━━━━━━━━━━━━━━\u001b[0m\u001b[37m\u001b[0m \u001b[1m0s\u001b[0m 624ms/step - accuracy: 0.8623 - loss: 0.2015\n",
      "Epoch 18: ReduceLROnPlateau reducing learning rate to 1.249999968422344e-05.\n",
      "\n",
      "Epoch 18: saving model to model_epoch18_val_loss0.5142.h5\n"
     ]
    },
    {
     "name": "stderr",
     "output_type": "stream",
     "text": [
      "WARNING:absl:You are saving your model as an HDF5 file via `model.save()` or `keras.saving.save_model(model)`. This file format is considered legacy. We recommend using instead the native Keras format, e.g. `model.save('my_model.keras')` or `keras.saving.save_model(model, 'my_model.keras')`. \n"
     ]
    },
    {
     "name": "stdout",
     "output_type": "stream",
     "text": [
      "\u001b[1m1036/1036\u001b[0m \u001b[32m━━━━━━━━━━━━━━━━━━━━\u001b[0m\u001b[37m\u001b[0m \u001b[1m668s\u001b[0m 644ms/step - accuracy: 0.8623 - loss: 0.2015 - val_accuracy: 0.8180 - val_loss: 0.5142 - learning_rate: 2.5000e-05\n",
      "Epoch 19/40\n",
      "\u001b[1m1036/1036\u001b[0m \u001b[32m━━━━━━━━━━━━━━━━━━━━\u001b[0m\u001b[37m\u001b[0m \u001b[1m0s\u001b[0m 612ms/step - accuracy: 0.8723 - loss: 0.1881\n",
      "Epoch 19: saving model to model_epoch19_val_loss0.5091.h5\n"
     ]
    },
    {
     "name": "stderr",
     "output_type": "stream",
     "text": [
      "WARNING:absl:You are saving your model as an HDF5 file via `model.save()` or `keras.saving.save_model(model)`. This file format is considered legacy. We recommend using instead the native Keras format, e.g. `model.save('my_model.keras')` or `keras.saving.save_model(model, 'my_model.keras')`. \n"
     ]
    },
    {
     "name": "stdout",
     "output_type": "stream",
     "text": [
      "\u001b[1m1036/1036\u001b[0m \u001b[32m━━━━━━━━━━━━━━━━━━━━\u001b[0m\u001b[37m\u001b[0m \u001b[1m653s\u001b[0m 630ms/step - accuracy: 0.8723 - loss: 0.1881 - val_accuracy: 0.8170 - val_loss: 0.5091 - learning_rate: 1.2500e-05\n",
      "Epoch 20/40\n",
      "\u001b[1m1036/1036\u001b[0m \u001b[32m━━━━━━━━━━━━━━━━━━━━\u001b[0m\u001b[37m\u001b[0m \u001b[1m0s\u001b[0m 579ms/step - accuracy: 0.8739 - loss: 0.1774\n",
      "Epoch 20: saving model to model_epoch20_val_loss0.5244.h5\n"
     ]
    },
    {
     "name": "stderr",
     "output_type": "stream",
     "text": [
      "WARNING:absl:You are saving your model as an HDF5 file via `model.save()` or `keras.saving.save_model(model)`. This file format is considered legacy. We recommend using instead the native Keras format, e.g. `model.save('my_model.keras')` or `keras.saving.save_model(model, 'my_model.keras')`. \n"
     ]
    },
    {
     "name": "stdout",
     "output_type": "stream",
     "text": [
      "\b\b\b\b\b\b\b\b\b\b\b\b\b\b\b\b\b\b\b\b\b\b\b\b\b\b\b\b\b\b\b\b\b\b\b\b\b\b\b\b\b\b\b\b\b\b\b\b\b\b\b\b\b\b\b\b\b\b\b\b\b\b\b\b\b\b\b\b\b\b\b\b\b\b\b\b\b\b\r",
      "\u001b[1m1036/1036\u001b[0m \u001b[32m━━━━━━━━━━━━━━━━━━━━\u001b[0m\u001b[37m\u001b[0m \u001b[1m619s\u001b[0m 597ms/step - accuracy: 0.8739 - loss: 0.1774 - val_accuracy: 0.8058 - val_loss: 0.5244 - learning_rate: 1.2500e-05\n"
     ]
    },
    {
     "name": "stderr",
     "output_type": "stream",
     "text": [
      "WARNING:absl:Compiled the loaded model, but the compiled metrics have yet to be built. `model.compile_metrics` will be empty until you train or evaluate the model.\n"
     ]
    },
    {
     "name": "stdout",
     "output_type": "stream",
     "text": [
      "\u001b[1m116/116\u001b[0m \u001b[32m━━━━━━━━━━━━━━━━━━━━\u001b[0m\u001b[37m\u001b[0m \u001b[1m119s\u001b[0m 944ms/step\n"
     ]
    },
    {
     "name": "stderr",
     "output_type": "stream",
     "text": [
      "WARNING:absl:Compiled the loaded model, but the compiled metrics have yet to be built. `model.compile_metrics` will be empty until you train or evaluate the model.\n"
     ]
    },
    {
     "name": "stdout",
     "output_type": "stream",
     "text": [
      "\u001b[1m116/116\u001b[0m \u001b[32m━━━━━━━━━━━━━━━━━━━━\u001b[0m\u001b[37m\u001b[0m \u001b[1m38s\u001b[0m 249ms/step\n"
     ]
    },
    {
     "name": "stderr",
     "output_type": "stream",
     "text": [
      "WARNING:absl:Compiled the loaded model, but the compiled metrics have yet to be built. `model.compile_metrics` will be empty until you train or evaluate the model.\n"
     ]
    },
    {
     "name": "stdout",
     "output_type": "stream",
     "text": [
      "\u001b[1m116/116\u001b[0m \u001b[32m━━━━━━━━━━━━━━━━━━━━\u001b[0m\u001b[37m\u001b[0m \u001b[1m38s\u001b[0m 250ms/step\n"
     ]
    },
    {
     "name": "stderr",
     "output_type": "stream",
     "text": [
      "WARNING:absl:Compiled the loaded model, but the compiled metrics have yet to be built. `model.compile_metrics` will be empty until you train or evaluate the model.\n"
     ]
    },
    {
     "name": "stdout",
     "output_type": "stream",
     "text": [
      "\u001b[1m116/116\u001b[0m \u001b[32m━━━━━━━━━━━━━━━━━━━━\u001b[0m\u001b[37m\u001b[0m \u001b[1m39s\u001b[0m 250ms/step\n",
      "Model file model_epoch19_val_loss0.5091.h5 not found, skipping.\n",
      "Study-Level Accuracy: 82.55%\n",
      "AUROC: 0.8805\n",
      "Cohen's Kappa: 0.6288\n"
     ]
    },
    {
     "ename": "NameError",
     "evalue": "name 'confusion_matrix' is not defined",
     "output_type": "error",
     "traceback": [
      "\u001b[0;31m---------------------------------------------------------------------------\u001b[0m",
      "\u001b[0;31mNameError\u001b[0m                                 Traceback (most recent call last)",
      "Cell \u001b[0;32mIn[1], line 240\u001b[0m\n\u001b[1;32m    237\u001b[0m \u001b[38;5;28mprint\u001b[39m(\u001b[38;5;124mf\u001b[39m\u001b[38;5;124m\"\u001b[39m\u001b[38;5;124mCohen\u001b[39m\u001b[38;5;124m'\u001b[39m\u001b[38;5;124ms Kappa: \u001b[39m\u001b[38;5;132;01m{\u001b[39;00mkappa\u001b[38;5;132;01m:\u001b[39;00m\u001b[38;5;124m.4f\u001b[39m\u001b[38;5;132;01m}\u001b[39;00m\u001b[38;5;124m\"\u001b[39m)\n\u001b[1;32m    239\u001b[0m \u001b[38;5;66;03m# Confusion Matrix\u001b[39;00m\n\u001b[0;32m--> 240\u001b[0m cm \u001b[38;5;241m=\u001b[39m \u001b[43mconfusion_matrix\u001b[49m(true_labels, binary_preds)\n\u001b[1;32m    241\u001b[0m sns\u001b[38;5;241m.\u001b[39mheatmap(cm, annot\u001b[38;5;241m=\u001b[39m\u001b[38;5;28;01mTrue\u001b[39;00m, fmt\u001b[38;5;241m=\u001b[39m\u001b[38;5;124m\"\u001b[39m\u001b[38;5;124md\u001b[39m\u001b[38;5;124m\"\u001b[39m, cmap\u001b[38;5;241m=\u001b[39m\u001b[38;5;124m\"\u001b[39m\u001b[38;5;124mBlues\u001b[39m\u001b[38;5;124m\"\u001b[39m, xticklabels\u001b[38;5;241m=\u001b[39m[\u001b[38;5;124m\"\u001b[39m\u001b[38;5;124mNormal\u001b[39m\u001b[38;5;124m\"\u001b[39m, \u001b[38;5;124m\"\u001b[39m\u001b[38;5;124mAbnormal\u001b[39m\u001b[38;5;124m\"\u001b[39m], yticklabels\u001b[38;5;241m=\u001b[39m[\u001b[38;5;124m\"\u001b[39m\u001b[38;5;124mNormal\u001b[39m\u001b[38;5;124m\"\u001b[39m, \u001b[38;5;124m\"\u001b[39m\u001b[38;5;124mAbnormal\u001b[39m\u001b[38;5;124m\"\u001b[39m])\n\u001b[1;32m    242\u001b[0m plt\u001b[38;5;241m.\u001b[39mxlabel(\u001b[38;5;124m\"\u001b[39m\u001b[38;5;124mPredicted\u001b[39m\u001b[38;5;124m\"\u001b[39m)\n",
      "\u001b[0;31mNameError\u001b[0m: name 'confusion_matrix' is not defined"
     ]
    }
   ],
   "source": [
    "#!/usr/bin/env python\n",
    "# coding: utf-8\n",
    "\n",
    "import os\n",
    "import cv2\n",
    "import numpy as np\n",
    "import pandas as pd\n",
    "import tensorflow as tf\n",
    "from tensorflow.keras.utils import Sequence\n",
    "from tensorflow.keras.applications import DenseNet169\n",
    "from tensorflow.keras.applications.densenet import preprocess_input\n",
    "from tensorflow.keras.models import Model, load_model\n",
    "from tensorflow.keras.layers import Dense, GlobalAveragePooling2D, Input, Dropout, BatchNormalization, Flatten\n",
    "from tensorflow.keras.optimizers import Adam\n",
    "from tensorflow.keras.regularizers import l2\n",
    "from tensorflow.keras.callbacks import ReduceLROnPlateau, EarlyStopping, ModelCheckpoint\n",
    "from tensorflow.keras.preprocessing.image import ImageDataGenerator\n",
    "from sklearn.model_selection import train_test_split\n",
    "from sklearn.metrics import roc_auc_score, cohen_kappa_score\n",
    "import seaborn as sns\n",
    "import matplotlib.pyplot as plt\n",
    "from collections import defaultdict\n",
    "\n",
    "# Constants\n",
    "IMG_SIZE = (320, 320)  # Updated to match MURA paper\n",
    "BATCH_SIZE = 32\n",
    "EPOCHS = 40\n",
    "DATA_PATH = \"./MURA-v1.1\"\n",
    "TRAIN_PATH = DATA_PATH + \"/train_labeled_studies.csv\"\n",
    "VALID_PATH = DATA_PATH + \"/valid_labeled_studies.csv\"\n",
    "\n",
    "# Utility Function to Extract Study Type\n",
    "def get_study_type(path):\n",
    "    study_types = ['XR_WRIST', 'XR_ELBOW', 'XR_SHOULDER', 'XR_FINGER', 'XR_FOREARM', 'XR_HAND', 'XR_HUMERUS']\n",
    "    for t in study_types:\n",
    "        if t in path:\n",
    "            return t\n",
    "    return None\n",
    "\n",
    "# Load Data with Study IDs\n",
    "def load_data(csv_path):\n",
    "    df = pd.read_csv(csv_path, names=['Path', 'Label'], header=None)\n",
    "    image_paths, labels, study_ids = [], [], []\n",
    "    base_dir = \"./\"\n",
    "    for _, row in df.iterrows():\n",
    "        study_path = os.path.join(base_dir, row[\"Path\"])\n",
    "        label = row[\"Label\"]\n",
    "        study_id = row[\"Path\"]  # e.g., \"MURA-v1.1/train/XR_SHOULDER/patient00001/study1_positive\"\n",
    "        if os.path.exists(study_path):\n",
    "            for image_file in os.listdir(study_path):\n",
    "                image_path = os.path.join(study_path, image_file)\n",
    "                if image_path.endswith(\".png\") and not image_file.startswith(\"._\"):\n",
    "                    image_paths.append(image_path)\n",
    "                    labels.append(label)\n",
    "                    study_ids.append(study_id)\n",
    "    return np.array(image_paths), np.array(labels), np.array(study_ids)\n",
    "\n",
    "# Load and Split Data\n",
    "train_image_paths, train_labels, train_study_ids = load_data(TRAIN_PATH)\n",
    "valid_image_paths, valid_labels, valid_study_ids = load_data(VALID_PATH)\n",
    "X_train, X_test, y_train, y_test, study_train, study_test = train_test_split(\n",
    "    train_image_paths, train_labels, train_study_ids, test_size=0.1, stratify=train_labels, random_state=42\n",
    ")\n",
    "\n",
    "# Compute Weights for Training Set\n",
    "counts = defaultdict(lambda: {'normal': 0, 'abnormal': 0})\n",
    "for path, label in zip(X_train, y_train):\n",
    "    study_type = get_study_type(path)\n",
    "    if study_type:\n",
    "        if label == 0:\n",
    "            counts[study_type]['normal'] += 1\n",
    "        else:\n",
    "            counts[study_type]['abnormal'] += 1\n",
    "\n",
    "weights_dict = {}\n",
    "for t in counts:\n",
    "    N_T = counts[t]['normal']\n",
    "    A_T = counts[t]['abnormal']\n",
    "    total = N_T + A_T\n",
    "    if total > 0:\n",
    "        weights_dict[t] = {\n",
    "            0: A_T / total,  # w_{T,0}\n",
    "            1: N_T / total   # w_{T,1}\n",
    "        }\n",
    "\n",
    "train_weights = []\n",
    "for path, label in zip(X_train, y_train):\n",
    "    study_type = get_study_type(path)\n",
    "    weight = weights_dict.get(study_type, {0: 1.0, 1: 1.0})[label] if study_type else 1.0\n",
    "    train_weights.append(weight)\n",
    "\n",
    "# Data Augmentation\n",
    "train_datagen = ImageDataGenerator(\n",
    "    rotation_range=20,\n",
    "    width_shift_range=0.2,\n",
    "    height_shift_range=0.2,\n",
    "    horizontal_flip=True,\n",
    "    zoom_range=0.2\n",
    ")\n",
    "\n",
    "# Custom Data Generator Class\n",
    "class MURADataGenerator(Sequence):\n",
    "    def __init__(self, image_paths, labels, weights=None, batch_size=BATCH_SIZE, img_size=IMG_SIZE, \n",
    "                 augment=False, shuffle=True, include_weights=False):\n",
    "        self.image_paths = image_paths\n",
    "        self.labels = labels\n",
    "        self.weights = weights if weights is not None else np.ones(len(labels))\n",
    "        self.batch_size = batch_size\n",
    "        self.img_size = img_size\n",
    "        self.augment = augment\n",
    "        self.shuffle = shuffle\n",
    "        self.include_weights = include_weights\n",
    "        self.datagen = train_datagen if augment else None\n",
    "        self.on_epoch_end()\n",
    "    \n",
    "    def __len__(self):\n",
    "        return int(np.ceil(len(self.image_paths) / self.batch_size))\n",
    "    \n",
    "    def __getitem__(self, index):\n",
    "        indices = self.indices[index * self.batch_size:(index + 1) * self.batch_size]\n",
    "        batch_paths = [self.image_paths[i] for i in indices]\n",
    "        batch_labels = [self.labels[i] for i in indices]\n",
    "        X, y = self.__data_generation(batch_paths, batch_labels)\n",
    "        if self.include_weights:\n",
    "            batch_weights = [self.weights[i] for i in indices]\n",
    "            return X, y, np.array(batch_weights)\n",
    "        return X, y\n",
    "    \n",
    "    def on_epoch_end(self):\n",
    "        self.indices = np.arange(len(self.image_paths))\n",
    "        if self.shuffle:\n",
    "            np.random.shuffle(self.indices)\n",
    "    \n",
    "    def __data_generation(self, batch_paths, batch_labels):\n",
    "        images = []\n",
    "        for path in batch_paths:\n",
    "            img = cv2.imread(path, cv2.IMREAD_GRAYSCALE)\n",
    "            if img is None:\n",
    "                img = np.zeros(self.img_size, dtype=np.uint8)\n",
    "            img = cv2.resize(img, self.img_size)\n",
    "            img = np.stack([img] * 3, axis=-1).astype(np.float32)\n",
    "            if self.augment and self.datagen:\n",
    "                img = self.datagen.random_transform(img)\n",
    "            img = preprocess_input(img)\n",
    "            images.append(img)\n",
    "        return np.array(images), np.array(batch_labels)\n",
    "\n",
    "# Generators\n",
    "train_generator = MURADataGenerator(X_train, y_train, weights=train_weights, augment=True, include_weights=True)\n",
    "valid_generator = MURADataGenerator(valid_image_paths, valid_labels, augment=False, shuffle=False, include_weights=False)\n",
    "test_generator = MURADataGenerator(X_test, y_test, augment=False, shuffle=False, include_weights=False)\n",
    "\n",
    "# Load Pretrained Model\n",
    "base_model = DenseNet169(weights='imagenet', include_top=False, input_tensor=Input(shape=(*IMG_SIZE, 3)))\n",
    "\n",
    "# Gradually Unfreeze Layers\n",
    "for layer in base_model.layers[:-50]:\n",
    "    layer.trainable = False\n",
    "for layer in base_model.layers[-50:]:\n",
    "    layer.trainable = True\n",
    "\n",
    "# Add Custom Classifier Head\n",
    "x = Flatten()(base_model.output)\n",
    "x = BatchNormalization()(x)\n",
    "x = Dense(units=256, activation='relu', kernel_initializer='he_normal', kernel_regularizer=l2(0.02))(x)\n",
    "x = Dropout(0.5)(x)\n",
    "x = BatchNormalization()(x)\n",
    "x = Dense(units=128, activation='relu', kernel_initializer='he_normal', kernel_regularizer=l2(0.02))(x)\n",
    "x = Dropout(0.5)(x)\n",
    "x = Dense(1, activation='sigmoid')(x)\n",
    "\n",
    "# Compile Model\n",
    "model = Model(inputs=base_model.input, outputs=x)\n",
    "model.compile(optimizer=Adam(learning_rate=1e-4), loss='binary_crossentropy', metrics=['accuracy'])\n",
    "\n",
    "# Callbacks\n",
    "lr_scheduler = ReduceLROnPlateau(monitor='val_loss', factor=0.5, patience=3, min_lr=1e-6, verbose=1)\n",
    "early_stopping = EarlyStopping(monitor='val_loss', patience=5, restore_best_weights=False)  # Changed to False for ensembling\n",
    "model_checkpoint = ModelCheckpoint(\n",
    "    \"model_epoch{epoch:02d}_val_loss{val_loss:.4f}.h5\",\n",
    "    monitor='val_loss',\n",
    "    save_best_only=False,\n",
    "    verbose=1\n",
    ")\n",
    "\n",
    "# Train Model\n",
    "history = model.fit(\n",
    "    train_generator,\n",
    "    validation_data=valid_generator,\n",
    "    epochs=EPOCHS,\n",
    "    callbacks=[lr_scheduler, early_stopping, model_checkpoint]\n",
    ")\n",
    "\n",
    "# Ensembling: Select Top 5 Models and Evaluate\n",
    "val_losses = history.history['val_loss']\n",
    "sorted_indices = np.argsort(val_losses)[:5]\n",
    "model_files = [f\"model_epoch{epoch+1:02d}_val_loss{val_losses[epoch]:.4f}.h5\" for epoch in sorted_indices]\n",
    "\n",
    "# Load and Predict with Top 5 Models\n",
    "test_predictions = []\n",
    "for model_file in model_files:\n",
    "    if os.path.exists(model_file):\n",
    "        model = load_model(model_file)\n",
    "        preds = model.predict(test_generator)\n",
    "        test_predictions.append(preds.flatten())\n",
    "    else:\n",
    "        print(f\"Model file {model_file} not found, skipping.\")\n",
    "\n",
    "# Average Predictions Across Models\n",
    "avg_test_predictions = np.mean(test_predictions, axis=0) if test_predictions else np.zeros(len(X_test))\n",
    "\n",
    "# Group Predictions by Study\n",
    "study_pred_dict = {}\n",
    "study_label_dict = {}\n",
    "for pred, study_id, label in zip(avg_test_predictions, study_test, y_test):\n",
    "    if study_id not in study_pred_dict:\n",
    "        study_pred_dict[study_id] = []\n",
    "        study_label_dict[study_id] = label\n",
    "    study_pred_dict[study_id].append(pred)\n",
    "\n",
    "# Compute Study-Level Predictions\n",
    "final_preds = []\n",
    "true_labels = []\n",
    "for study_id in study_pred_dict:\n",
    "    avg_pred = np.mean(study_pred_dict[study_id])\n",
    "    final_preds.append(avg_pred)\n",
    "    true_labels.append(study_label_dict[study_id])\n",
    "\n",
    "# Compute Study-Level Metrics\n",
    "binary_preds = [1 if p > 0.5 else 0 for p in final_preds]\n",
    "accuracy = np.mean([1 if p == t else 0 for p, t in zip(binary_preds, true_labels)])\n",
    "auroc = roc_auc_score(true_labels, final_preds)\n",
    "kappa = cohen_kappa_score(true_labels, binary_preds)\n",
    "\n",
    "print(f\"Study-Level Accuracy: {accuracy * 100:.2f}%\")\n",
    "print(f\"AUROC: {auroc:.4f}\")\n",
    "print(f\"Cohen's Kappa: {kappa:.4f}\")\n",
    "\n",
    "# Confusion Matrix\n",
    "cm = confusion_matrix(true_labels, binary_preds)\n",
    "sns.heatmap(cm, annot=True, fmt=\"d\", cmap=\"Blues\", xticklabels=[\"Normal\", \"Abnormal\"], yticklabels=[\"Normal\", \"Abnormal\"])\n",
    "plt.xlabel(\"Predicted\")\n",
    "plt.ylabel(\"Actual\")\n",
    "plt.title(\"Study-Level Confusion Matrix\")\n",
    "plt.show()\n",
    "\n",
    "# Display Some Results (First 10 Studies)\n",
    "study_ids_unique = list(study_pred_dict.keys())[:10]\n",
    "for i, study_id in enumerate(study_ids_unique):\n",
    "    print(f\"Study: {study_id}, Actual: {true_labels[i]}, Predicted Probability: {final_preds[i]:.4f}, Predicted Label: {binary_preds[i]}\")"
   ]
  },
  {
   "cell_type": "code",
   "execution_count": 2,
   "id": "a2859f86",
   "metadata": {},
   "outputs": [],
   "source": [
    "from sklearn.metrics import roc_auc_score, cohen_kappa_score, confusion_matrix"
   ]
  },
  {
   "cell_type": "code",
   "execution_count": 5,
   "id": "5abcdcad",
   "metadata": {},
   "outputs": [
    {
     "data": {
      "image/png": "[encoded data removed]",
      "text/plain": [
       "<Figure size 640x480 with 2 Axes>"
      ]
     },
     "metadata": {},
     "output_type": "display_data"
    },
    {
     "name": "stdout",
     "output_type": "stream",
     "text": [
      "Actual: 1, Predicted Probability: 0.5339, Predicted Label: 1\n",
      "Actual: 1, Predicted Probability: 0.7943, Predicted Label: 1\n",
      "Actual: 1, Predicted Probability: 0.9680, Predicted Label: 1\n",
      "Actual: 0, Predicted Probability: 0.2380, Predicted Label: 0\n",
      "Actual: 1, Predicted Probability: 0.3889, Predicted Label: 0\n",
      "Actual: 0, Predicted Probability: 0.1771, Predicted Label: 0\n",
      "Actual: 1, Predicted Probability: 0.2847, Predicted Label: 0\n",
      "Actual: 0, Predicted Probability: 0.0807, Predicted Label: 0\n",
      "Actual: 0, Predicted Probability: 0.3727, Predicted Label: 0\n",
      "Actual: 1, Predicted Probability: 0.3751, Predicted Label: 0\n",
      "Actual: 0, Predicted Probability: 0.0918, Predicted Label: 0\n",
      "Actual: 1, Predicted Probability: 0.8211, Predicted Label: 1\n",
      "Actual: 0, Predicted Probability: 0.3138, Predicted Label: 0\n",
      "Actual: 1, Predicted Probability: 0.9616, Predicted Label: 1\n",
      "Actual: 0, Predicted Probability: 0.1010, Predicted Label: 0\n",
      "Actual: 1, Predicted Probability: 0.1108, Predicted Label: 0\n",
      "Actual: 0, Predicted Probability: 0.0852, Predicted Label: 0\n",
      "Actual: 0, Predicted Probability: 0.4902, Predicted Label: 0\n",
      "Actual: 0, Predicted Probability: 0.1074, Predicted Label: 0\n",
      "Actual: 1, Predicted Probability: 0.0678, Predicted Label: 0\n"
     ]
    }
   ],
   "source": [
    "# Confusion Matrix\n",
    "cm = confusion_matrix(true_labels, binary_preds)\n",
    "sns.heatmap(cm, annot=True, fmt=\"d\", cmap=\"Blues\", xticklabels=[\"Normal\", \"Abnormal\"], yticklabels=[\"Normal\", \"Abnormal\"])\n",
    "plt.xlabel(\"Predicted\")\n",
    "plt.ylabel(\"Actual\")\n",
    "plt.title(\"Study-Level Confusion Matrix\")\n",
    "plt.show()\n",
    "\n",
    "# Display Some Results (First 10 Studies)\n",
    "study_ids_unique = list(study_pred_dict.keys())[:20]\n",
    "for i, study_id in enumerate(study_ids_unique):\n",
    "    print(f\"Actual: {true_labels[i]}, Predicted Probability: {final_preds[i]:.4f}, Predicted Label: {binary_preds[i]}\")\n",
    "    "
   ]
  },
  {
   "cell_type": "code",
   "execution_count": 6,
   "id": "db36303e",
   "metadata": {},
   "outputs": [
    {
     "name": "stdout",
     "output_type": "stream",
     "text": [
      "Recall: 0.7110\n",
      "Precision: 0.8322\n"
     ]
    }
   ],
   "source": [
    "# Update the import statement at the top of your script\n",
    "from sklearn.metrics import roc_auc_score, cohen_kappa_score, recall_score, precision_score\n",
    "\n",
    "# After computing binary_preds and true_labels in your existing code\n",
    "# (This is already done in your script as shown below)\n",
    "# binary_preds = [1 if p > 0.5 else 0 for p in final_preds]\n",
    "# true_labels = [computed from study_label_dict]\n",
    "\n",
    "# Calculate recall and precision\n",
    "recall = recall_score(true_labels, binary_preds, pos_label=1, zero_division=0)\n",
    "precision = precision_score(true_labels, binary_preds, pos_label=1, zero_division=0)\n",
    "\n",
    "# Print the results alongside other metrics\n",
    "print(f\"Recall: {recall:.4f}\")\n",
    "print(f\"Precision: {precision:.4f}\")"
   ]
  },
  {
   "cell_type": "code",
   "execution_count": null,
   "id": "d1a4f6a6",
   "metadata": {},
   "outputs": [],
   "source": []
  },
  {
   "cell_type": "code",
   "execution_count": null,
   "id": "6630cc86",
   "metadata": {},
   "outputs": [],
   "source": []
  }
 ],
 "metadata": {
  "kernelspec": {
   "display_name": "Python 3 (ipykernel)",
   "language": "python",
   "name": "python3"
  },
  "language_info": {
   "codemirror_mode": {
    "name": "ipython",
    "version": 3
   },
   "file_extension": ".py",
   "mimetype": "text/x-python",
   "name": "python",
   "nbconvert_exporter": "python",
   "pygments_lexer": "ipython3",
   "version": "3.12.3"
  }
 },
 "nbformat": 4,
 "nbformat_minor": 5
}
